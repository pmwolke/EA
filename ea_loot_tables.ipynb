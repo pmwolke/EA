{
 "cells": [
  {
   "cell_type": "markdown",
   "id": "narrative-participant",
   "metadata": {},
   "source": [
    "## Phil's Evaluation on Current Loot Tables and the Scavenger Perk"
   ]
  },
  {
   "cell_type": "code",
   "execution_count": 1,
   "id": "lesbian-brazil",
   "metadata": {},
   "outputs": [],
   "source": [
    "# Import packages we will be using\n",
    "\n",
    "import pandas as pd # For dataframe object\n",
    "import numpy as np # For quick calculations with arrays\n",
    "import matplotlib.pyplot as plt # For plotting\n",
    "import seaborn as sns # For nicer looking plots"
   ]
  },
  {
   "cell_type": "code",
   "execution_count": 2,
   "id": "infectious-mauritius",
   "metadata": {},
   "outputs": [
    {
     "name": "stdout",
     "output_type": "stream",
     "text": [
      "        Date                 Time  ClientVersion  \\\n",
      "0 2014-01-15  1899-12-30 00:00:00          609.0   \n",
      "1 2014-01-15  1899-12-30 00:00:00          608.0   \n",
      "2 2014-01-16  1899-12-30 00:00:00          609.0   \n",
      "3 2014-01-15             00:00:01          609.0   \n",
      "4 2014-01-16             00:00:01          609.0   \n",
      "5 2014-01-17             00:00:01          609.0   \n",
      "6 2014-01-15             00:00:02          609.0   \n",
      "7 2014-01-16             00:00:02          609.0   \n",
      "8 2014-01-16             00:00:02          609.0   \n",
      "9 2014-01-16             00:00:02          609.0   \n",
      "\n",
      "                                       deviceid      source      subtype  \\\n",
      "0  WmYwr5cbf2aNOromC+b3l1KHQrXTLs1uIEubaYRtuFs=  LootPickup  RegularDrop   \n",
      "1  +J7UFIHf9EFwL5vs6KKYmjBB4eAWjKq7e7XUkBH8Fd4=  LootPickup  RegularDrop   \n",
      "2  7A7V8Btso0LEkgm1qEMAIu0GP3HN30g5yJHb5TrKawo=  LootPickup  RegularDrop   \n",
      "3  HRaMxumgDLOMFEm8vQdmDvZ8wWUrhd/QR1FtIweCfnI=  LootPickup  RegularDrop   \n",
      "4  0zoNcE5YJB149F2mxydMBZJeohlW9mfPY0laF3p4hNY=  LootPickup  RegularDrop   \n",
      "5  rS54AwQJfequZWhvUBe6DB1UDPLSv8PXvu/y1IwPhwE=  LootPickup  RegularDrop   \n",
      "6  4Yh6SpHPY+lwHjOHQz60crGRmjGALzjinkUYv/iaUOc=  LootPickup  RegularDrop   \n",
      "7  8PVYhUA3SfIIi+BttkpoeUU+0TQU9x/RVPcRXtyGlVY=  LootPickup  RegularDrop   \n",
      "8  TGCU1K2qMJGrNUunKJ54TJ+8C1qY7ksfBSez7UXnF3c=  LootPickup  RegularDrop   \n",
      "9  5mIxWioHe5cLxnXint4I7s/7vbSesnwIpaJfm04d+9k=  LootPickup  RegularDrop   \n",
      "\n",
      "   ItemWorth  TotalCoins  \n",
      "0     2500.0   6472700.0  \n",
      "1    10000.0     10900.0  \n",
      "2     5000.0     20200.0  \n",
      "3    25000.0   1050600.0  \n",
      "4     2500.0   1255700.0  \n",
      "5     5000.0   1434600.0  \n",
      "6     5000.0   2175300.0  \n",
      "7    10000.0    301550.0  \n",
      "8   250000.0    616850.0  \n",
      "9     2500.0     26300.0  \n"
     ]
    }
   ],
   "source": [
    "# Import the data set\n",
    "\n",
    "df = pd.read_excel(\"Case Study - Data.xlsx\", sheet_name=0)\n",
    "\n",
    "print(df.head(10)) # Print out the header so we can visually validate this is the data we wanted to import"
   ]
  },
  {
   "cell_type": "markdown",
   "id": "educational-somerset",
   "metadata": {},
   "source": [
    "<font size=\"3\">Looks like the data imported correctly! Let's get some basic information about this data set.</font>"
   ]
  },
  {
   "cell_type": "code",
   "execution_count": 3,
   "id": "fiscal-magic",
   "metadata": {},
   "outputs": [
    {
     "name": "stdout",
     "output_type": "stream",
     "text": [
      "<class 'pandas.core.frame.DataFrame'>\n",
      "RangeIndex: 727398 entries, 0 to 727397\n",
      "Data columns (total 8 columns):\n",
      " #   Column         Non-Null Count   Dtype         \n",
      "---  ------         --------------   -----         \n",
      " 0   Date           284135 non-null  datetime64[ns]\n",
      " 1   Time           284135 non-null  object        \n",
      " 2   ClientVersion  284135 non-null  float64       \n",
      " 3   deviceid       284041 non-null  object        \n",
      " 4   source         284135 non-null  object        \n",
      " 5   subtype        284122 non-null  object        \n",
      " 6   ItemWorth      284135 non-null  float64       \n",
      " 7   TotalCoins     284135 non-null  float64       \n",
      "dtypes: datetime64[ns](1), float64(3), object(4)\n",
      "memory usage: 44.4+ MB\n",
      "None\n"
     ]
    }
   ],
   "source": [
    "# Get some information about the column names, data type, number of NaN values, etc.\n",
    "\n",
    "print(df.info())"
   ]
  },
  {
   "cell_type": "markdown",
   "id": "violent-integrity",
   "metadata": {},
   "source": [
    "<font size=\"3\">Columns appear to have been imported with the Dtype we were expecting. Seems like we have some missing data in a few of the columns. Not so much that is will impead our analysis.</font>"
   ]
  },
  {
   "cell_type": "code",
   "execution_count": 4,
   "id": "satisfactory-stable",
   "metadata": {},
   "outputs": [
    {
     "name": "stdout",
     "output_type": "stream",
     "text": [
      "       ClientVersion       ItemWorth    TotalCoins\n",
      "count  284135.000000   284135.000000  2.841350e+05\n",
      "mean      608.944005    14106.875253  1.219960e+06\n",
      "std         1.238482    33849.331337  1.361011e+07\n",
      "min       573.000000     1000.000000 -2.147143e+09\n",
      "25%       609.000000     2500.000000  8.000000e+04\n",
      "50%       609.000000     5000.000000  2.808000e+05\n",
      "75%       609.000000    10000.000000  1.160100e+06\n",
      "max       610.000000  1000000.000000  2.147277e+09\n"
     ]
    }
   ],
   "source": [
    "# Get some basic high-level information about the vlaues in our columns\n",
    "\n",
    "print(df.describe())"
   ]
  },
  {
   "cell_type": "markdown",
   "id": "ethical-vietnamese",
   "metadata": {},
   "source": [
    "<font size=\"3\">We see a negative value in the TotalCoins column, so we will have to deal with that at some point. Also, the max value for that column seems exceddingly high.</font>\n",
    "\n",
    "<font size=\"3\">Let's first verify that the drop rate players are experiencing aligns with the given loot tables.</font>"
   ]
  },
  {
   "cell_type": "code",
   "execution_count": 5,
   "id": "renewable-possible",
   "metadata": {},
   "outputs": [],
   "source": [
    "# We'll filter our dataframe into 2, one for regular drops and another for drops when the player had the scavenger perk\n",
    "\n",
    "df_regular = df[df[\"subtype\"] == \"RegularDrop\"] # Filter by regular drops\n",
    "df_scavenger = df[df[\"subtype\"] == \"ScavengerDrop\"] # Filter by scavenger perk drops"
   ]
  },
  {
   "cell_type": "code",
   "execution_count": 7,
   "id": "dutch-shoot",
   "metadata": {},
   "outputs": [
    {
     "name": "stdout",
     "output_type": "stream",
     "text": [
      "[0.057622642054064976, 0.22327420728275146, 0.25350715141368513, 0.24138005686492417, 0.1506884408330567, 0.04928413699539596, 0.0199821034248849, 0.0035937477448872083, 0.0006675133863495317]\n",
      "[0.1765, 0.2885, 0.26, 0.1365, 0.0675, 0.0475, 0.02, 0.005]\n"
     ]
    }
   ],
   "source": [
    "# We'll count the number of occurances for each item class, and then divide by the total number of drops to estimate drop rates\n",
    "\n",
    "# These lists represent the loot table as defined by the product manager\n",
    "regular_loot_table = [0.1765, 0.2885, 0.26, 0.1365, 0.0675, 0.0475, 0.02, 0.005]\n",
    "scavenger_loot_table = [0.0153, 0.20, 0.25, 0.28, 0.18, 0.05, 0.02, 0.004, 0.007]\n",
    "\n",
    "# Each item class is tied to a item worth, which we'll use to determine the drop type\n",
    "coin_amount = [1000, 2500, 5000, 10000, 25000, 50000, 100000, 250000, 1000000]\n",
    "proba_regular = []\n",
    "\n",
    "# Loop through the item types and compute percent frequency of drop\n",
    "for i in coin_amount:\n",
    "    proba = df_regular[\"ItemWorth\"][df_regular[\"ItemWorth\"] == i].count()  / df_regular[\"ItemWorth\"].count()\n",
    "    proba_regular.append(proba)\n",
    "\n",
    "# This is a small list, so we'll just print the actual drop rate with the given table and compare\n",
    "print(proba_regular)\n",
    "print(regular_loot_table)"
   ]
  },
  {
   "cell_type": "code",
   "execution_count": 8,
   "id": "sitting-studio",
   "metadata": {},
   "outputs": [
    {
     "name": "stdout",
     "output_type": "stream",
     "text": [
      "[0.02380269572698595, 0.204473759678807, 0.24691712073415542, 0.28677946659019216, 0.16661887008890164, 0.04932606825351305, 0.018353885861772296, 0.0028677946659019216, 0.0008603383997705764]\n",
      "[0.0153, 0.2, 0.25, 0.28, 0.18, 0.05, 0.02, 0.004, 0.007]\n"
     ]
    }
   ],
   "source": [
    "# Do the exact same as above for the drop rate with the scavenger perks\n",
    "\n",
    "proba_scavenger = []\n",
    "\n",
    "for i in coin_amount:\n",
    "    proba = df_scavenger[\"ItemWorth\"][df_scavenger[\"ItemWorth\"] == i].count()  / df_scavenger[\"ItemWorth\"].count()\n",
    "    proba_scavenger.append(proba)\n",
    "    \n",
    "print(proba_scavenger)\n",
    "print(scavenger_loot_table)"
   ]
  },
  {
   "cell_type": "markdown",
   "id": "sensitive-calibration",
   "metadata": {},
   "source": [
    "<font size=\"3\">The loot table for the scavenger perk seems to be correct. However, the drop rates for regular drops is not matching the loot table. Players are getting way less common and slightly less uncommon drops in favor of more rare and ultra drops. This has an immediate affect on player's perception of the scavenger perk. To a player (not making constant calculations) the drop rates for each item class is effectively the same. The quick solution would be to go back and fix the values in the game code for the regular loot table, though player reaction to seeing more common drops could cause an even greater uporoar among the player base.</font>"
   ]
  },
  {
   "cell_type": "markdown",
   "id": "herbal-mapping",
   "metadata": {},
   "source": [
    "<font size=\"3\">Let's investigate how important drops are to the overall game economy</font>"
   ]
  },
  {
   "cell_type": "code",
   "execution_count": 9,
   "id": "interpreted-liberal",
   "metadata": {},
   "outputs": [
    {
     "data": {
      "image/png": "[encoded data removed]",
      "text/plain": [
       "<Figure size 720x720 with 1 Axes>"
      ]
     },
     "metadata": {
      "needs_background": "light"
     },
     "output_type": "display_data"
    }
   ],
   "source": [
    "# Plot a histogram, so we can get a since of the distribution of wealth among players\n",
    "\n",
    "plt.rcParams['figure.figsize'] = 10, 10 # This makes the plot larger\n",
    "sns.histplot(data=df[(df[\"TotalCoins\"]>0) & (df[\"TotalCoins\"]<=2000000)], x=\"TotalCoins\", bins=100) # We noticed earlier that we need to exclude the min and max values for TotalCoins\n",
    "plt.xlim(0, 2000000) # This will \"zoom\" in to a range that is easier to visualize\n",
    "plt.title(\"Distribution of Total Coins\") # Title for our figure\n",
    "plt.xlabel(\"Total Coins\") # Always label your axis\n",
    "plt.ylabel(\"Count\") # Always label your axis\n",
    "plt.show() # Display the plot"
   ]
  },
  {
   "cell_type": "markdown",
   "id": "israeli-aside",
   "metadata": {},
   "source": [
    "<font size=\"3\">This is a distribution we would expect or at least hope for. Most players are spending their coin, and so have very little. It looks like most players have less than 1 million total coins in their account/bank. Let's get some more concrete stastics on this distribution. We'll do that by comparing total coins to the worth of item drops. The reasoning here is that if player's total worth is similar to an the worth of an item drop, then any singular item drop is impactful to the player.</font>"
   ]
  },
  {
   "cell_type": "code",
   "execution_count": 10,
   "id": "substantial-planet",
   "metadata": {},
   "outputs": [
    {
     "name": "stdout",
     "output_type": "stream",
     "text": [
      "1.4077815123092897e-05 percent of the player base have less than 1000 total coins\n",
      "0.0004258539074735601 percent of the player base have less than 2500 total coins\n",
      "0.004638640083059109 percent of the player base have less than 5000 total coins\n",
      "0.021704471466028472 percent of the player base have less than 10000 total coins\n",
      "0.07846974149611981 percent of the player base have less than 25000 total coins\n",
      "0.16676227849437766 percent of the player base have less than 50000 total coins\n",
      "0.29088989388846853 percent of the player base have less than 100000 total coins\n",
      "0.4777447340172805 percent of the player base have less than 250000 total coins\n",
      "0.7176764566139335 percent of the player base have less than 1000000 total coins\n"
     ]
    }
   ],
   "source": [
    "# Loop through the item worth and calculation the percent of players with that total worth or less\n",
    "\n",
    "for i in coin_amount:\n",
    "    percent = df[\"TotalCoins\"][df[\"TotalCoins\"] <= i].count()  / df[\"TotalCoins\"].count() # Calculation\n",
    "    print(str(percent) + \" percent of the player base have less than \" + str(i) + \" total coins\") # Print out results"
   ]
  },
  {
   "cell_type": "markdown",
   "id": "computational-newton",
   "metadata": {},
   "source": [
    "<font size=\"3\">Roughly 28% have more than 1 million total coins. Let's look into that further.</font>"
   ]
  },
  {
   "cell_type": "code",
   "execution_count": 11,
   "id": "hawaiian-intention",
   "metadata": {},
   "outputs": [
    {
     "name": "stdout",
     "output_type": "stream",
     "text": [
      "0.28232354338606647 percent of the player base have more than 1000000 total coins\n",
      "0.1587907156809263 percent of the player base have more than 2000000 total coins\n",
      "0.10019181023105217 percent of the player base have more than 3000000 total coins\n",
      "0.06704911397751068 percent of the player base have more than 4000000 total coins\n",
      "0.04638992028437183 percent of the player base have more than 5000000 total coins\n",
      "0.032435286043606015 percent of the player base have more than 6000000 total coins\n",
      "0.02322839495310325 percent of the player base have more than 7000000 total coins\n",
      "0.017192531719077198 percent of the player base have more than 8000000 total coins\n",
      "0.01317331550143419 percent of the player base have more than 9000000 total coins\n"
     ]
    }
   ],
   "source": [
    "# Loop through values 1 to 10 million\n",
    "\n",
    "for i in range(1000000, 10000000, 1000000):\n",
    "    percent = df[\"TotalCoins\"][df[\"TotalCoins\"] <= i].count()  / df[\"TotalCoins\"].count()\n",
    "    print(str(1-percent) + \" percent of the player base have more than \" + str(i) + \" total coins\")"
   ]
  },
  {
   "cell_type": "markdown",
   "id": "exempt-finger",
   "metadata": {},
   "source": [
    "<font size=\"3\">Loot drops are still an important part of the economy. Roughly 70% of the player base have less than 1,000,000 total coins meaning even a single Champion drop has a huge affect on their net worth. This means most players will be engaged anytime there is an item drop. Moreover, only 10% of the player base has more than 3,000,000 total coins which means even drops less than Champion level are still impactful. Only around 1% of the player base has more than 10 million total coins. These players could have an impact if the economy is player-to-player in some manner. However, if the player base is isolated then it is most likely these players are some combination of heavy users or simply don't like to use their coins as often as the average user.</font>"
   ]
  },
  {
   "cell_type": "markdown",
   "id": "protective-rings",
   "metadata": {},
   "source": [
    "<font size=\"3\">We noticed some issues with the data before we did some analysis. None of it seemed to be a big enough issue to impact the analysis we did above. However, we should take some time to further investigate and ensure the data doesn't have any other irregularities. We don't want to give our stakeholders information and recommendations based on bad data.</font>"
   ]
  },
  {
   "cell_type": "code",
   "execution_count": 12,
   "id": "cubic-modern",
   "metadata": {},
   "outputs": [
    {
     "name": "stdout",
     "output_type": "stream",
     "text": [
      "Number of Items Worth 2500.0 : 63310\n",
      "Number of Items Worth 10000.0 : 68899\n",
      "Number of Items Worth 5000.0 : 71986\n",
      "Number of Items Worth 25000.0 : 42927\n",
      "Number of Items Worth 250000.0 : 1016\n",
      "Number of Items Worth 1000.0 : 16137\n",
      "Number of Items Worth 50000.0 : 14003\n",
      "Number of Items Worth 100000.0 : 5666\n",
      "Number of Items Worth 1000000.0 : 191\n",
      "Number of Items Worth nan : 0\n"
     ]
    }
   ],
   "source": [
    "# Let's make sure the item worth colum looks good\n",
    "\n",
    "# We know there should be 9 different item types, plus NaN, so lets look at unique values\n",
    "unique_item_worth = pd.unique(df[\"ItemWorth\"])\n",
    "\n",
    "# Looping through unqiue values, we'll count and print them out\n",
    "for i in unique_item_worth:\n",
    "    count = df[\"ItemWorth\"][df[\"ItemWorth\"] == i].count()\n",
    "    print(\"Number of Items Worth \" + str(i) + \" :\", str(count))"
   ]
  },
  {
   "cell_type": "markdown",
   "id": "possible-arbor",
   "metadata": {},
   "source": [
    "<font size=\"3\">The data looks like we would expect. Let's look at the subtype column.</font>"
   ]
  },
  {
   "cell_type": "code",
   "execution_count": 13,
   "id": "hispanic-tiger",
   "metadata": {},
   "outputs": [
    {
     "name": "stdout",
     "output_type": "stream",
     "text": [
      "Number of subtypes RegularDrop : 277148\n",
      "Number of subtypes ScavengerDrop : 6974\n",
      "Number of subtypes nan : 0\n"
     ]
    }
   ],
   "source": [
    "# We'll perform a similar analysis as above\n",
    "\n",
    "unique_subtype = pd.unique(df[\"subtype\"])\n",
    "\n",
    "for i in unique_subtype:\n",
    "    count = df[\"subtype\"][df[\"subtype\"] == i].count()\n",
    "    print(\"Number of subtypes \" + str(i) + \" :\", str(count))"
   ]
  },
  {
   "cell_type": "markdown",
   "id": "excited-delta",
   "metadata": {},
   "source": [
    "<font size=\"3\">Again, this is as we expect. No extra subtypes, and the usage of the scavenger drop perk should be less than the amount of regular drops based on the feedback we are getting from forumns as well as our understanding that players have multiple perks to choose from. Lastly, lets look at the device id column.</font>"
   ]
  },
  {
   "cell_type": "code",
   "execution_count": 14,
   "id": "excessive-stopping",
   "metadata": {},
   "outputs": [
    {
     "name": "stdout",
     "output_type": "stream",
     "text": [
      "The number of unique devices is:  142339\n",
      "deviceid\n",
      "+++bEwFjsqId4AkEn561Sifgaw5khYWPkaQSGJOHxEo=    2\n",
      "+++u4LIdsbLj51+sdVT261zRinmgdSDWTFvPlw1Fmn4=    1\n",
      "++0r7MbmzDAXh2cR3U7B3P+khU3e3w8Q2NO0VRWNego=    1\n",
      "++37NnOoHsY4zNTBWYWLSm9WPOQD7YKqSmYgfY9BusU=    1\n",
      "++5b72lnDd/QpEskB51O6PwnGjvy4y79VdWCCOx6evs=    2\n",
      "++8Qa5I6qSoy/A2n1GOlGsWoQNQJMetIPq+1wDfHEPI=    1\n",
      "++8tQMarRJzgEmjFs8Pa2OnFRsAGOUGsHJcY3ywD8Yc=    1\n",
      "++AXRfxVdezwIpw+OXXVn6q6MfjBc7W+9wwtBbZ2Zhg=    1\n",
      "++DTmN3DOT9u6KDNb2fECktzGhgII4uvI4ThwGct3dg=    1\n",
      "++G2B0CpOSnrHaW0x6QPf0TtAWs66Fo01/cLjjHFwfE=    3\n",
      "Name: ItemWorth, dtype: int64\n",
      "count    142338.000000\n",
      "mean          1.630029\n",
      "std           0.763744\n",
      "min           1.000000\n",
      "25%           1.000000\n",
      "50%           1.000000\n",
      "75%           2.000000\n",
      "max           9.000000\n",
      "Name: ItemWorth, dtype: float64\n"
     ]
    }
   ],
   "source": [
    "# We want to group by unique device id's, and then exame them\n",
    "\n",
    "# Filter by unique id's\n",
    "unique_devices = pd.unique(df[\"deviceid\"])\n",
    "unique_id = df.groupby(\"deviceid\")[\"ItemWorth\"].nunique()\n",
    "\n",
    "# Print out some summary statistics\n",
    "print(\"The number of unique devices is: \", len(unique_devices))\n",
    "print(unique_id.head(10))\n",
    "print(unique_id.describe())"
   ]
  },
  {
   "cell_type": "markdown",
   "id": "after-swimming",
   "metadata": {},
   "source": [
    "<font size=\"3\">This looks good! We want lots of unqiue id's to look at in order to ensure a good sample representative of the playerbase.</font>"
   ]
  },
  {
   "cell_type": "markdown",
   "id": "speaking-anchor",
   "metadata": {},
   "source": [
    "<font size=\"3\">Data quaility overall is very good. Only in the deviceid and subtype fields is there missing data. The number of NaN's are small so it has little effect on the analysis. There are a few analmolies in the TotalCoin feature. There is one value that is negative, which shouldn't be the case so clearly there is an issue there. Also, the max value for that column is over 2 billion. I would recommend removing that value from the data set for analysis and then letting someone else on the team know so they can investigate what is going on with this particular account.</font>"
   ]
  },
  {
   "cell_type": "markdown",
   "id": "orange-boston",
   "metadata": {},
   "source": [
    "## Final recommendations\n",
    "\n",
    " - Fix the game code so it matches the defined loot table\n",
    "     - Consider decreasing the drop rate for common and uncommon items in the regular loot table so the change isn't too jarring for players\n",
    "     - Consider increasing the drop rate for legendary and higher items in the scavenger table to increase player perception in the perk\n",
    "         - The economy is in a state that could handle more coins entering the market from a subsegment of the player base\n",
    " - Drops are still impactful to the game economy, so item worth should stay consistant\n",
    " - Investigate the situation that allows for players to have negative total worth\n",
    " - Investigate the device id with 2 billion coins"
   ]
  },
  {
   "cell_type": "code",
   "execution_count": null,
   "id": "victorian-animation",
   "metadata": {},
   "outputs": [],
   "source": []
  }
 ],
 "metadata": {
  "kernelspec": {
   "display_name": "Python 3",
   "language": "python",
   "name": "python3"
  },
  "language_info": {
   "codemirror_mode": {
    "name": "ipython",
    "version": 3
   },
   "file_extension": ".py",
   "mimetype": "text/x-python",
   "name": "python",
   "nbconvert_exporter": "python",
   "pygments_lexer": "ipython3",
   "version": "3.8.5"
  }
 },
 "nbformat": 4,
 "nbformat_minor": 5
}
